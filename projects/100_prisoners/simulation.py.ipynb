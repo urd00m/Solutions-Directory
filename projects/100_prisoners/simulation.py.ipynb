{
 "cells": [
  {
   "cell_type": "code",
   "execution_count": 1,
   "metadata": {},
   "outputs": [],
   "source": [
    "import matplotlib.pyplot as plt\n",
    "import random \n",
    "import math \n",
    "import numpy as np \n",
    "# simulation the 100 prisoners riddle "
   ]
  },
  {
   "cell_type": "code",
   "execution_count": 59,
   "metadata": {},
   "outputs": [],
   "source": [
    "NUMBER_OF_TRIALS = 100000\n",
    "CHAIN_STRATEGY = False \n",
    "NUMBER_OF_PRISONERS = 100\n",
    "NUMBER_OF_ATTEMPTS = 50 "
   ]
  },
  {
   "cell_type": "code",
   "execution_count": 60,
   "metadata": {
    "scrolled": true
   },
   "outputs": [],
   "source": [
    "data = [] \n",
    "for _ in range(NUMBER_OF_TRIALS):\n",
    "    num_safe = 0 \n",
    "    \n",
    "    # Box layout (0 index prisoners)\n",
    "    boxes = random.sample(range(0, NUMBER_OF_PRISONERS), NUMBER_OF_PRISONERS)\n",
    "    \n",
    "    # simulation \n",
    "    for prisoner in range(NUMBER_OF_PRISONERS):\n",
    "        safe = False\n",
    "        next_guess = prisoner # For chain strategy \n",
    "        for guess in range(NUMBER_OF_ATTEMPTS):\n",
    "            if(CHAIN_STRATEGY == True):\n",
    "                # open box \n",
    "                if(boxes[next_guess] == prisoner):\n",
    "                    safe = True \n",
    "                    break \n",
    "                \n",
    "                # Go to next box \n",
    "                next_guess = boxes[next_guess] # chain it \n",
    "            else: # random strategy \n",
    "                guesses = random.sample(range(0, NUMBER_OF_PRISONERS), NUMBER_OF_ATTEMPTS)\n",
    "                for item in guesses: \n",
    "                    if(boxes[item] == prisoner):\n",
    "                        safe = True\n",
    "                        break \n",
    "                break \n",
    "                \n",
    "        if(safe == True):\n",
    "            num_safe += 1 \n",
    "    data.append(num_safe)"
   ]
  },
  {
   "cell_type": "code",
   "execution_count": 61,
   "metadata": {},
   "outputs": [
    {
     "data": {
      "image/png": "[encoded data removed]",
      "text/plain": [
       "<Figure size 432x288 with 1 Axes>"
      ]
     },
     "metadata": {
      "needs_background": "light"
     },
     "output_type": "display_data"
    }
   ],
   "source": [
    "plt.hist(data, bins=30)\n",
    "plt.title(\"# of prisoners that are safe\")\n",
    "plt.xlabel(\"# Prisoners Safe\")\n",
    "plt.ylabel(\"Occurences\")\n",
    "plt.show()"
   ]
  },
  {
   "cell_type": "code",
   "execution_count": 62,
   "metadata": {},
   "outputs": [
    {
     "name": "stdout",
     "output_type": "stream",
     "text": [
      "0\n",
      "0.0\n"
     ]
    }
   ],
   "source": [
    "trials_safe = 0 \n",
    "for trial in data:\n",
    "    if(trial == NUMBER_OF_PRISONERS):\n",
    "        trials_safe += 1 \n",
    "print(trials_safe) \n",
    "print(str((trials_safe/NUMBER_OF_TRIALS)*100))"
   ]
  },
  {
   "cell_type": "code",
   "execution_count": 63,
   "metadata": {},
   "outputs": [],
   "source": [
    "f = open(\"100000_random.txt\", \"a\") \n",
    "f.write(\"100000 random strategy test\")\n",
    "for item in data:\n",
    "    f.write(\"%d\\n\"%(item,))"
   ]
  },
  {
   "cell_type": "code",
   "execution_count": null,
   "metadata": {},
   "outputs": [],
   "source": []
  }
 ],
 "metadata": {
  "kernelspec": {
   "display_name": "Python 3",
   "language": "python",
   "name": "python3"
  },
  "language_info": {
   "codemirror_mode": {
    "name": "ipython",
    "version": 3
   },
   "file_extension": ".py",
   "mimetype": "text/x-python",
   "name": "python",
   "nbconvert_exporter": "python",
   "pygments_lexer": "ipython3",
   "version": "3.7.6"
  }
 },
 "nbformat": 4,
 "nbformat_minor": 4
}
